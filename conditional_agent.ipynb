{
 "cells": [
  {
   "cell_type": "code",
   "execution_count": 16,
   "metadata": {},
   "outputs": [],
   "source": [
    "from typing import TypedDict\n",
    "from langgraph.graph import StateGraph, START, END"
   ]
  },
  {
   "cell_type": "code",
   "execution_count": 17,
   "metadata": {},
   "outputs": [],
   "source": [
    "class AgentState(TypedDict):\n",
    "    number1: int\n",
    "    number2: int\n",
    "    operation1: str\n",
    "    number3: int\n",
    "    number4: int\n",
    "    operation2: str\n",
    "    result1: int\n",
    "    result2: int"
   ]
  },
  {
   "cell_type": "code",
   "execution_count": 18,
   "metadata": {},
   "outputs": [],
   "source": [
    "def adder(state: AgentState) -> AgentState:\n",
    "    \"\"\" This node adds 2 numbers \"\"\"\n",
    "    state['result1'] = state['number1'] + state['number2']\n",
    "\n",
    "    return state\n",
    "\n",
    "def adder2(state: AgentState) -> AgentState:\n",
    "    \"\"\" This node adds 2 numbers \"\"\"\n",
    "    state['result2'] = state['number3'] + state['number4']\n",
    "\n",
    "    return state\n",
    "\n",
    "def subtractor(state: AgentState) -> AgentState:\n",
    "    \"\"\" This node subtracts 2 numbers \"\"\"\n",
    "    state['result1'] = state['number1'] - state['number2']\n",
    "\n",
    "    return state\n",
    "\n",
    "def subtractor2(state: AgentState) -> AgentState:\n",
    "    \"\"\" This node subtracts 2 numbers \"\"\"\n",
    "    state['result2'] = state['number3'] - state['number4']\n",
    "\n",
    "    return state\n",
    "\n",
    "\n",
    "def decide_next_node(state: AgentState) -> AgentState:\n",
    "    \"\"\" This node will select the next node of the graph \"\"\"\n",
    "\n",
    "    if state['operation1'] == \"+\":\n",
    "        return \"addition_operation1\"\n",
    "    \n",
    "    elif state['operation1'] == \"-\":\n",
    "        return \"subtract_operation1\"\n",
    "    \n",
    "\n",
    "def decide_next_node2(state: AgentState) -> AgentState:\n",
    "    \"\"\" This node will select the next node of the graph \"\"\"\n",
    "\n",
    "    if state['operation2'] == \"+\":\n",
    "        return \"addition_operation2\"\n",
    "    \n",
    "    elif state['operation2'] == \"-\":\n",
    "        return \"subtract_operation2\""
   ]
  },
  {
   "cell_type": "code",
   "execution_count": null,
   "metadata": {},
   "outputs": [],
   "source": [
    "graph = StateGraph(AgentState)\n",
    "\n",
    "graph.add_node(\"add_node\", adder)\n",
    "graph.add_node(\"add_node2\", adder2)\n",
    "\n",
    "graph.add_node(\"subtract_node\", subtractor)\n",
    "graph.add_node(\"subtract_node2\", subtractor2)\n",
    "\n",
    "\n",
    "graph.add_node(\"router1\", lambda state: state)\n",
    "graph.add_node(\"router2\", lambda state: state)\n",
    "\n",
    "\n",
    "graph.add_edge(START, \"router1\")\n",
    "\n",
    "graph.add_conditional_edges(\n",
    "    \"router1\",\n",
    "    decide_next_node,\n",
    "\n",
    "    # edge: node\n",
    "    {\n",
    "        \"addition_operation1\": \"add_node\",\n",
    "        \"subtract_operation1\": \"subtract_node\"   \n",
    "    }\n",
    ")\n",
    "\n",
    "graph.add_edge(\"add_node\", \"router2\")\n",
    "graph.add_edge(\"subtract_node\", \"router2\")\n",
    "\n",
    "graph.add_conditional_edges(\n",
    "    \"router2\",\n",
    "    decide_next_node2,\n",
    "\n",
    "    # edge: node\n",
    "    {\n",
    "        \"addition_operation2\": \"add_node2\",\n",
    "        \"subtract_operation2\": \"subtract_node2\"  \n",
    "    }\n",
    ")\n",
    "\n",
    "graph.add_edge(\"add_node2\", END)\n",
    "graph.add_edge(\"subtract_node2\", END)\n",
    "\n",
    "app = graph.compile()"
   ]
  },
  {
   "cell_type": "code",
   "execution_count": 20,
   "metadata": {},
   "outputs": [
    {
     "name": "stdout",
     "output_type": "stream",
     "text": [
      "{'number1': 10, 'number2': 5, 'operation1': '-', 'number3': 2, 'number4': 2, 'operation2': '+', 'result1': 5, 'result2': 4}\n"
     ]
    }
   ],
   "source": [
    "# This way still works!\n",
    "\n",
    "result = app.invoke({\"number1\": 10, \"operation1\": \"-\", \"number2\": 5, \"number3\": 2, \"number4\": 2, \"operation2\": \"+\"})\n",
    "print(result)"
   ]
  },
  {
   "cell_type": "code",
   "execution_count": null,
   "metadata": {},
   "outputs": [],
   "source": []
  }
 ],
 "metadata": {
  "kernelspec": {
   "display_name": "Python 3",
   "language": "python",
   "name": "python3"
  },
  "language_info": {
   "codemirror_mode": {
    "name": "ipython",
    "version": 3
   },
   "file_extension": ".py",
   "mimetype": "text/x-python",
   "name": "python",
   "nbconvert_exporter": "python",
   "pygments_lexer": "ipython3",
   "version": "3.11.9"
  }
 },
 "nbformat": 4,
 "nbformat_minor": 2
}
